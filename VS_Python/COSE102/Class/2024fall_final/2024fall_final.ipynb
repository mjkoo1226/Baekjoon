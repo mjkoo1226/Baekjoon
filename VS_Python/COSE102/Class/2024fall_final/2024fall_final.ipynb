{
 "cells": [
  {
   "cell_type": "code",
   "execution_count": 1,
   "metadata": {},
   "outputs": [
    {
     "name": "stdout",
     "output_type": "stream",
     "text": [
      "Requirement already satisfied: pandas in c:\\users\\minjun\\documents\\study\\vs_python\\.venv\\lib\\site-packages (2.2.3)Note: you may need to restart the kernel to use updated packages.\n",
      "\n",
      "Requirement already satisfied: numpy>=1.26.0 in c:\\users\\minjun\\documents\\study\\vs_python\\.venv\\lib\\site-packages (from pandas) (2.1.3)\n",
      "Requirement already satisfied: python-dateutil>=2.8.2 in c:\\users\\minjun\\documents\\study\\vs_python\\.venv\\lib\\site-packages (from pandas) (2.9.0.post0)\n",
      "Requirement already satisfied: pytz>=2020.1 in c:\\users\\minjun\\documents\\study\\vs_python\\.venv\\lib\\site-packages (from pandas) (2024.2)\n",
      "Requirement already satisfied: tzdata>=2022.7 in c:\\users\\minjun\\documents\\study\\vs_python\\.venv\\lib\\site-packages (from pandas) (2024.2)\n",
      "Requirement already satisfied: six>=1.5 in c:\\users\\minjun\\documents\\study\\vs_python\\.venv\\lib\\site-packages (from python-dateutil>=2.8.2->pandas) (1.16.0)\n"
     ]
    },
    {
     "name": "stderr",
     "output_type": "stream",
     "text": [
      "\n",
      "[notice] A new release of pip is available: 24.2 -> 24.3.1\n",
      "[notice] To update, run: python.exe -m pip install --upgrade pip\n"
     ]
    }
   ],
   "source": [
    "pip install pandas"
   ]
  },
  {
   "cell_type": "code",
   "execution_count": 3,
   "metadata": {},
   "outputs": [
    {
     "name": "stdout",
     "output_type": "stream",
     "text": [
      "Requirement already satisfied: requests in c:\\users\\minjun\\documents\\study\\vs_python\\.venv\\lib\\site-packages (2.32.3)\n",
      "Requirement already satisfied: charset-normalizer<4,>=2 in c:\\users\\minjun\\documents\\study\\vs_python\\.venv\\lib\\site-packages (from requests) (3.4.0)\n",
      "Requirement already satisfied: idna<4,>=2.5 in c:\\users\\minjun\\documents\\study\\vs_python\\.venv\\lib\\site-packages (from requests) (3.10)\n",
      "Requirement already satisfied: urllib3<3,>=1.21.1 in c:\\users\\minjun\\documents\\study\\vs_python\\.venv\\lib\\site-packages (from requests) (2.2.3)\n",
      "Requirement already satisfied: certifi>=2017.4.17 in c:\\users\\minjun\\documents\\study\\vs_python\\.venv\\lib\\site-packages (from requests) (2024.8.30)\n",
      "Note: you may need to restart the kernel to use updated packages.\n"
     ]
    },
    {
     "name": "stderr",
     "output_type": "stream",
     "text": [
      "\n",
      "[notice] A new release of pip is available: 24.2 -> 24.3.1\n",
      "[notice] To update, run: python.exe -m pip install --upgrade pip\n"
     ]
    }
   ],
   "source": [
    "pip install requests"
   ]
  },
  {
   "cell_type": "code",
   "execution_count": 4,
   "metadata": {},
   "outputs": [
    {
     "name": "stdout",
     "output_type": "stream",
     "text": [
      "241203\n"
     ]
    }
   ],
   "source": [
    "# 2024 Fall COSE102 Final Term Exam\n",
    "# 2024320333 구민준\n",
    "# Q1\n",
    "\n",
    "import pandas as pd\n",
    "\n",
    "df = pd.read_csv('price.csv')\n",
    "dates = list(set(df['일자']))\n",
    "\n",
    "for i in range(len(dates)):\n",
    "  dates[i] = int(dates[i])\n",
    "\n",
    "dates.sort()\n",
    "data_num = len(df)\n",
    "\n",
    "spot = {}\n",
    "futures = {}\n",
    "\n",
    "for i in range(data_num):\n",
    "  if df.loc[i,'구분'] == 'Spot':\n",
    "    spot[df.loc[i, '일자']] = int(df.loc[i, '가격'])\n",
    "  elif df.loc[i, '구분'] == 'Futures':\n",
    "    futures[df.loc[i, '일자']] = int(df.loc[i, '가격'])\n",
    "\n",
    "backwardation = []\n",
    "\n",
    "for date in dates:\n",
    "  if date in spot and date in futures:\n",
    "    if spot[date] > futures[date]:\n",
    "      backwardation.append(date)\n",
    "\n",
    "n = int(input())\n",
    "\n",
    "print(backwardation[n - 1])"
   ]
  },
  {
   "cell_type": "code",
   "execution_count": 5,
   "metadata": {},
   "outputs": [
    {
     "ename": "NoSuchElementException",
     "evalue": "Message: no such element: Unable to locate element: {\"method\":\"css selector\",\"selector\":\"[name=\"sbCollege\"]\"}\n  (Session info: chrome=131.0.6778.109); For documentation on this error, please visit: https://www.selenium.dev/documentation/webdriver/troubleshooting/errors#no-such-element-exception\nStacktrace:\n\tGetHandleVerifier [0x00007FF736506CF5+28821]\n\t(No symbol) [0x00007FF736473880]\n\t(No symbol) [0x00007FF73631578A]\n\t(No symbol) [0x00007FF7363691BE]\n\t(No symbol) [0x00007FF7363694AC]\n\t(No symbol) [0x00007FF7363B2647]\n\t(No symbol) [0x00007FF73638F33F]\n\t(No symbol) [0x00007FF7363AF412]\n\t(No symbol) [0x00007FF73638F0A3]\n\t(No symbol) [0x00007FF73635A778]\n\t(No symbol) [0x00007FF73635B8E1]\n\tGetHandleVerifier [0x00007FF73683FCED+3408013]\n\tGetHandleVerifier [0x00007FF73685745F+3504127]\n\tGetHandleVerifier [0x00007FF73684B63D+3455453]\n\tGetHandleVerifier [0x00007FF7365CBDFB+835995]\n\t(No symbol) [0x00007FF73647EB9F]\n\t(No symbol) [0x00007FF73647A854]\n\t(No symbol) [0x00007FF73647A9ED]\n\t(No symbol) [0x00007FF73646A1D9]\n\tBaseThreadInitThunk [0x00007FF974D9259D+29]\n\tRtlUserThreadStart [0x00007FF97632AF38+40]\n",
     "output_type": "error",
     "traceback": [
      "\u001b[1;31m---------------------------------------------------------------------------\u001b[0m",
      "\u001b[1;31mNoSuchElementException\u001b[0m                    Traceback (most recent call last)",
      "Cell \u001b[1;32mIn[5], line 23\u001b[0m\n\u001b[0;32m     20\u001b[0m driver\u001b[38;5;241m.\u001b[39mget(\u001b[38;5;124m'\u001b[39m\u001b[38;5;124mhttps://m.dhlottery.co.kr/gameResult.do?method=allWin\u001b[39m\u001b[38;5;124m'\u001b[39m)\n\u001b[0;32m     21\u001b[0m time\u001b[38;5;241m.\u001b[39msleep(\u001b[38;5;241m1\u001b[39m)\n\u001b[1;32m---> 23\u001b[0m type_box1 \u001b[38;5;241m=\u001b[39m \u001b[43mdriver\u001b[49m\u001b[38;5;241;43m.\u001b[39;49m\u001b[43mfind_element\u001b[49m\u001b[43m(\u001b[49m\u001b[43mBy\u001b[49m\u001b[38;5;241;43m.\u001b[39;49m\u001b[43mNAME\u001b[49m\u001b[43m,\u001b[49m\u001b[43m \u001b[49m\u001b[38;5;124;43m'\u001b[39;49m\u001b[38;5;124;43msbCollege\u001b[39;49m\u001b[38;5;124;43m'\u001b[39;49m\u001b[43m)\u001b[49m\n\u001b[0;32m     24\u001b[0m type_box2 \u001b[38;5;241m=\u001b[39m driver\u001b[38;5;241m.\u001b[39mfind_element(By\u001b[38;5;241m.\u001b[39mNAME, \u001b[38;5;124m'\u001b[39m\u001b[38;5;124msbDepartment\u001b[39m\u001b[38;5;124m'\u001b[39m)\n\u001b[0;32m     26\u001b[0m type_box1\u001b[38;5;241m.\u001b[39msend_keys(dangwa)\n",
      "File \u001b[1;32mc:\\Users\\Minjun\\Documents\\Study\\VS_Python\\.venv\\Lib\\site-packages\\selenium\\webdriver\\remote\\webdriver.py:770\u001b[0m, in \u001b[0;36mWebDriver.find_element\u001b[1;34m(self, by, value)\u001b[0m\n\u001b[0;32m    767\u001b[0m         \u001b[38;5;28;01mraise\u001b[39;00m NoSuchElementException(\u001b[38;5;124mf\u001b[39m\u001b[38;5;124m\"\u001b[39m\u001b[38;5;124mCannot locate relative element with: \u001b[39m\u001b[38;5;132;01m{\u001b[39;00mby\u001b[38;5;241m.\u001b[39mroot\u001b[38;5;132;01m}\u001b[39;00m\u001b[38;5;124m\"\u001b[39m)\n\u001b[0;32m    768\u001b[0m     \u001b[38;5;28;01mreturn\u001b[39;00m elements[\u001b[38;5;241m0\u001b[39m]\n\u001b[1;32m--> 770\u001b[0m \u001b[38;5;28;01mreturn\u001b[39;00m \u001b[38;5;28;43mself\u001b[39;49m\u001b[38;5;241;43m.\u001b[39;49m\u001b[43mexecute\u001b[49m\u001b[43m(\u001b[49m\u001b[43mCommand\u001b[49m\u001b[38;5;241;43m.\u001b[39;49m\u001b[43mFIND_ELEMENT\u001b[49m\u001b[43m,\u001b[49m\u001b[43m \u001b[49m\u001b[43m{\u001b[49m\u001b[38;5;124;43m\"\u001b[39;49m\u001b[38;5;124;43musing\u001b[39;49m\u001b[38;5;124;43m\"\u001b[39;49m\u001b[43m:\u001b[49m\u001b[43m \u001b[49m\u001b[43mby\u001b[49m\u001b[43m,\u001b[49m\u001b[43m \u001b[49m\u001b[38;5;124;43m\"\u001b[39;49m\u001b[38;5;124;43mvalue\u001b[39;49m\u001b[38;5;124;43m\"\u001b[39;49m\u001b[43m:\u001b[49m\u001b[43m \u001b[49m\u001b[43mvalue\u001b[49m\u001b[43m}\u001b[49m\u001b[43m)\u001b[49m[\u001b[38;5;124m\"\u001b[39m\u001b[38;5;124mvalue\u001b[39m\u001b[38;5;124m\"\u001b[39m]\n",
      "File \u001b[1;32mc:\\Users\\Minjun\\Documents\\Study\\VS_Python\\.venv\\Lib\\site-packages\\selenium\\webdriver\\remote\\webdriver.py:384\u001b[0m, in \u001b[0;36mWebDriver.execute\u001b[1;34m(self, driver_command, params)\u001b[0m\n\u001b[0;32m    382\u001b[0m response \u001b[38;5;241m=\u001b[39m \u001b[38;5;28mself\u001b[39m\u001b[38;5;241m.\u001b[39mcommand_executor\u001b[38;5;241m.\u001b[39mexecute(driver_command, params)\n\u001b[0;32m    383\u001b[0m \u001b[38;5;28;01mif\u001b[39;00m response:\n\u001b[1;32m--> 384\u001b[0m     \u001b[38;5;28;43mself\u001b[39;49m\u001b[38;5;241;43m.\u001b[39;49m\u001b[43merror_handler\u001b[49m\u001b[38;5;241;43m.\u001b[39;49m\u001b[43mcheck_response\u001b[49m\u001b[43m(\u001b[49m\u001b[43mresponse\u001b[49m\u001b[43m)\u001b[49m\n\u001b[0;32m    385\u001b[0m     response[\u001b[38;5;124m\"\u001b[39m\u001b[38;5;124mvalue\u001b[39m\u001b[38;5;124m\"\u001b[39m] \u001b[38;5;241m=\u001b[39m \u001b[38;5;28mself\u001b[39m\u001b[38;5;241m.\u001b[39m_unwrap_value(response\u001b[38;5;241m.\u001b[39mget(\u001b[38;5;124m\"\u001b[39m\u001b[38;5;124mvalue\u001b[39m\u001b[38;5;124m\"\u001b[39m, \u001b[38;5;28;01mNone\u001b[39;00m))\n\u001b[0;32m    386\u001b[0m     \u001b[38;5;28;01mreturn\u001b[39;00m response\n",
      "File \u001b[1;32mc:\\Users\\Minjun\\Documents\\Study\\VS_Python\\.venv\\Lib\\site-packages\\selenium\\webdriver\\remote\\errorhandler.py:232\u001b[0m, in \u001b[0;36mErrorHandler.check_response\u001b[1;34m(self, response)\u001b[0m\n\u001b[0;32m    230\u001b[0m         alert_text \u001b[38;5;241m=\u001b[39m value[\u001b[38;5;124m\"\u001b[39m\u001b[38;5;124malert\u001b[39m\u001b[38;5;124m\"\u001b[39m]\u001b[38;5;241m.\u001b[39mget(\u001b[38;5;124m\"\u001b[39m\u001b[38;5;124mtext\u001b[39m\u001b[38;5;124m\"\u001b[39m)\n\u001b[0;32m    231\u001b[0m     \u001b[38;5;28;01mraise\u001b[39;00m exception_class(message, screen, stacktrace, alert_text)  \u001b[38;5;66;03m# type: ignore[call-arg]  # mypy is not smart enough here\u001b[39;00m\n\u001b[1;32m--> 232\u001b[0m \u001b[38;5;28;01mraise\u001b[39;00m exception_class(message, screen, stacktrace)\n",
      "\u001b[1;31mNoSuchElementException\u001b[0m: Message: no such element: Unable to locate element: {\"method\":\"css selector\",\"selector\":\"[name=\"sbCollege\"]\"}\n  (Session info: chrome=131.0.6778.109); For documentation on this error, please visit: https://www.selenium.dev/documentation/webdriver/troubleshooting/errors#no-such-element-exception\nStacktrace:\n\tGetHandleVerifier [0x00007FF736506CF5+28821]\n\t(No symbol) [0x00007FF736473880]\n\t(No symbol) [0x00007FF73631578A]\n\t(No symbol) [0x00007FF7363691BE]\n\t(No symbol) [0x00007FF7363694AC]\n\t(No symbol) [0x00007FF7363B2647]\n\t(No symbol) [0x00007FF73638F33F]\n\t(No symbol) [0x00007FF7363AF412]\n\t(No symbol) [0x00007FF73638F0A3]\n\t(No symbol) [0x00007FF73635A778]\n\t(No symbol) [0x00007FF73635B8E1]\n\tGetHandleVerifier [0x00007FF73683FCED+3408013]\n\tGetHandleVerifier [0x00007FF73685745F+3504127]\n\tGetHandleVerifier [0x00007FF73684B63D+3455453]\n\tGetHandleVerifier [0x00007FF7365CBDFB+835995]\n\t(No symbol) [0x00007FF73647EB9F]\n\t(No symbol) [0x00007FF73647A854]\n\t(No symbol) [0x00007FF73647A9ED]\n\t(No symbol) [0x00007FF73646A1D9]\n\tBaseThreadInitThunk [0x00007FF974D9259D+29]\n\tRtlUserThreadStart [0x00007FF97632AF38+40]\n"
     ]
    }
   ],
   "source": [
    "# 2024 Fall COSE102 Final Term Exam\n",
    "# 2024320333 구민준\n",
    "# Q2\n",
    "import requests\n",
    "from bs4 import BeautifulSoup\n",
    "import time\n",
    "from selenium import webdriver\n",
    "from selenium. webdriver.common.by import By\n",
    "\n",
    "dangwa = input()\n",
    "hakgwa = input()\n",
    "\n",
    "url = 'https://infodepot.korea.ac.kr/abeek/course/GradCredits.jsp'\n",
    "\n",
    "specific_options = webdriver.ChromeOptions()\n",
    "specific_options.add_argument('--headless')\n",
    "specific_options.add_argument ('--no-sandbox')\n",
    "driver = webdriver.Chrome(options = specific_options)\n",
    "\n",
    "driver.get('https://m.dhlottery.co.kr/gameResult.do?method=allWin')\n",
    "time.sleep(1)\n",
    "\n",
    "type_box1 = driver.find_element(By.NAME, 'sbCollege')\n",
    "type_box2 = driver.find_element(By.NAME, 'sbDepartment')\n",
    "\n",
    "type_box1.send_keys(dangwa)\n",
    "type_box2.send_keys(hakgwa)\n",
    "time.sleep(1)\n",
    "\n",
    "button_xpath = '//*[@type=\"submit\"]'\n",
    "button = driver.find_element(By.XPATH, button_xpath)\n",
    "button.click()\n",
    "time.sleep(1)\n"
   ]
  }
 ],
 "metadata": {
  "kernelspec": {
   "display_name": ".venv",
   "language": "python",
   "name": "python3"
  },
  "language_info": {
   "codemirror_mode": {
    "name": "ipython",
    "version": 3
   },
   "file_extension": ".py",
   "mimetype": "text/x-python",
   "name": "python",
   "nbconvert_exporter": "python",
   "pygments_lexer": "ipython3",
   "version": "3.12.2"
  }
 },
 "nbformat": 4,
 "nbformat_minor": 2
}
