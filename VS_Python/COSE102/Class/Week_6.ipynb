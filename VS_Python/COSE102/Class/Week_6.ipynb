{
 "cells": [
  {
   "cell_type": "code",
   "execution_count": 6,
   "metadata": {},
   "outputs": [
    {
     "name": "stdout",
     "output_type": "stream",
     "text": [
      "Before :\n",
      "[8, 3, 4, 2, 6, 1, 9, 5, 7]\n",
      "After :\n",
      "[1, 2, 3, 4, 5, 6, 7, 8, 9]\n"
     ]
    }
   ],
   "source": [
    "## Bouble Sort\n",
    "## Time O(N^2)\n",
    "\n",
    "arr = [8, 3, 4, 2, 6, 1, 9, 5, 7]\n",
    "length = len(arr)\n",
    "\n",
    "print(\"Before :\")\n",
    "print(arr)\n",
    "\n",
    "for i in range(length):\n",
    "    for j in range(i+1, length):\n",
    "        if arr[i] > arr[j]:\n",
    "            temp = arr[i]\n",
    "            arr[i] = arr[j]\n",
    "            arr[j] = temp\n",
    "\n",
    "print(\"After :\")\n",
    "print(arr)"
   ]
  },
  {
   "cell_type": "code",
   "execution_count": 5,
   "metadata": {},
   "outputs": [
    {
     "name": "stdout",
     "output_type": "stream",
     "text": [
      "Before :\n",
      "[8, 3, 4, 2, 6, 1, 9, 5, 7]\n",
      "After :\n",
      "[1, 2, 3, 4, 5, 6, 7, 8, 9]\n"
     ]
    }
   ],
   "source": [
    "## Insertion Sort\n",
    "## Time O(n^2)\n",
    "\n",
    "arr = [8, 3, 4, 2, 6, 1, 9, 5, 7]\n",
    "length = len(arr)\n",
    "\n",
    "print(\"Before :\")\n",
    "print(arr)\n",
    "\n",
    "for i in range(1, length):\n",
    "    key = arr[i]\n",
    "    j = i - 1\n",
    "    while j >= 0 and key < arr[j]:\n",
    "        arr[j + 1] = arr[j]\n",
    "        j -= 1\n",
    "    arr[j + 1] = key\n",
    "    \n",
    "print(\"After :\")\n",
    "print(arr)\n"
   ]
  },
  {
   "cell_type": "code",
   "execution_count": 7,
   "metadata": {},
   "outputs": [
    {
     "name": "stdout",
     "output_type": "stream",
     "text": [
      "Before :\n",
      "[8, 3, 4, 2, 6, 1, 9, 5, 7]\n",
      "After :\n",
      "[1, 2, 3, 4, 5, 6, 7, 8, 9]\n"
     ]
    }
   ],
   "source": [
    "## Selection Sort\n",
    "## Time O(n^2)\n",
    "\n",
    "arr = [8, 3, 4, 2, 6, 1, 9, 5, 7]\n",
    "length = len(arr)\n",
    "\n",
    "print(\"Before :\")\n",
    "print(arr)\n",
    "\n",
    "for i in range(length - 1):\n",
    "    target_nums = arr[i:length]\n",
    "    target_min = min(target_nums)\n",
    "    target_idx = arr.index(target_min)\n",
    "\n",
    "    temp = arr[i]\n",
    "    arr[i] = arr[target_idx]\n",
    "    arr[target_idx] = temp\n",
    "    \n",
    "print(\"After :\")\n",
    "print(arr)"
   ]
  },
  {
   "cell_type": "markdown",
   "metadata": {},
   "source": [
    "세가지 소팅 알고리즘 모두 O(n^2)을 따름.\n",
    "\n",
    "> 셋 다 개느리기 때문에 파이썬은 timsort를 사용.\n",
    "\n",
    "timsort : 합병 정렬(Merge Sort)과 삽입 정렬(Insertion Sort)의 원리가 혼용된 체계이며 개빠름."
   ]
  },
  {
   "cell_type": "code",
   "execution_count": 13,
   "metadata": {},
   "outputs": [
    {
     "name": "stdout",
     "output_type": "stream",
     "text": [
      "5.551115123125783e-17\n"
     ]
    }
   ],
   "source": [
    "print(0.2 + 0.1 - 0.3)"
   ]
  },
  {
   "cell_type": "markdown",
   "metadata": {},
   "source": [
    "e-17 = 10 ^ (-17)\n",
    "\n",
    "e+05 = 10 ^ (05)\n",
    "\n",
    "0.000.....000555\n",
    "\n",
    "> 오차 무조건 발생"
   ]
  },
  {
   "cell_type": "markdown",
   "metadata": {},
   "source": [
    "8비트 -> 지수부 3개 비트 -> 000~111 -> 2의 0승부터 7승까지-> bias 3 부여\n",
    "\n",
    "32비트 -> 지수부 8개 비트 -> 00000000~11111111 -> 2의 0승부터 255승까지 -> bias 127 부여\n",
    "\n",
    "IEEE 764 단정밀도 부동소수점 부여(32비트 4바이트)\n",
    "1, 8, 23\n",
    "\n",
    "IEEE 764 배정밀도 부동소수점 부여(64비트 8바이트)\n",
    "1, 11, 52\n"
   ]
  }
 ],
 "metadata": {
  "kernelspec": {
   "display_name": ".venv",
   "language": "python",
   "name": "python3"
  },
  "language_info": {
   "codemirror_mode": {
    "name": "ipython",
    "version": 3
   },
   "file_extension": ".py",
   "mimetype": "text/x-python",
   "name": "python",
   "nbconvert_exporter": "python",
   "pygments_lexer": "ipython3",
   "version": "3.12.2"
  }
 },
 "nbformat": 4,
 "nbformat_minor": 2
}
