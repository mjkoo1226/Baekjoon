{
 "cells": [
  {
   "cell_type": "code",
   "execution_count": null,
   "metadata": {},
   "outputs": [],
   "source": [
    "# DataFrame 구조를 이용한 결측치 제거, 데이터 병합 등 전처리 수행\n",
    "import pandas as pd\n",
    "\n",
    "# 행렬, 다차원 배열 등 수학 연산을 주로 수행하는 라이브러리\n",
    "import numpy as np\n",
    "\n",
    "# 주어진 자료를 플롯 혹은 차트로 시각화하기 위한 라이브러리\n",
    "import matplotlib.pyplot as plt"
   ]
  },
  {
   "cell_type": "code",
   "execution_count": null,
   "metadata": {},
   "outputs": [],
   "source": [
    "import pandas as pd\n",
    "\n",
    "# xlsx 파일 읽기\n",
    "df = pd.read_excel('파일명.xlsx')\n",
    "\n",
    "# csv 파일 읽기 (이걸 더 많이 쓸 예정)\n",
    "df = pd.read_csv('파일명.csv', engine = 'python') "
   ]
  },
  {
   "cell_type": "code",
   "execution_count": null,
   "metadata": {},
   "outputs": [],
   "source": [
    "import pandas as pd\n",
    "\n",
    "# 인덱스를 자동으로 붙일 필요가 없는경우\n",
    "# 원래 판다스는 인덱스를 자동으로 붙여줌\n",
    "df = pd.read_excel('파일명.xlsx', index_col = 0)"
   ]
  }
 ],
 "metadata": {
  "kernelspec": {
   "display_name": ".venv",
   "language": "python",
   "name": "python3"
  },
  "language_info": {
   "name": "python",
   "version": "3.12.2"
  }
 },
 "nbformat": 4,
 "nbformat_minor": 2
}
